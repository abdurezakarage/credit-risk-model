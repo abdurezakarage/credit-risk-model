{
 "cells": [
  {
   "cell_type": "code",
   "execution_count": 1,
   "metadata": {},
   "outputs": [],
   "source": [
    "import pandas as pd\n",
    "import numpy as np\n",
    "import matplotlib.pyplot as plt\n",
    "import seaborn as sns\n",
    "import os\n",
    "import sys\n",
    "sys.path.append(os.path.abspath(os.path.join(os.path.dirname('__file__'), '..')))\n",
    "# Configure plot styles\n",
    "sns.set_style(\"whitegrid\")\n",
    "plt.rcParams['figure.figsize'] = (10, 6)\n",
    "plt.rcParams['figure.dpi'] = 100\n"
   ]
  },
  {
   "cell_type": "code",
   "execution_count": 3,
   "metadata": {},
   "outputs": [],
   "source": [
    "from src.data_processing import DataProcessor, EDAReportGenerator"
   ]
  },
  {
   "cell_type": "code",
   "execution_count": 4,
   "metadata": {},
   "outputs": [],
   "source": [
    "# Define paths\n",
    "raw_data_path = \"../data/raw/data.csv\"  # Update with your actual path\n",
    "processed_data_path = \"../data/processed/processed_customer_data.csv\""
   ]
  },
  {
   "cell_type": "code",
   "execution_count": 5,
   "metadata": {},
   "outputs": [
    {
     "name": "stdout",
     "output_type": "stream",
     "text": [
      "Data loaded successfully from ../data/raw/data.csv. Shape: (95662, 16)\n",
      "Starting data preprocessing...\n",
      "TransactionStartTime converted and date extracted.\n",
      "Calculating RFM features...\n",
      "RFM features calculated.\n",
      "Defining proxy default variable...\n",
      "Proxy default variable defined.\n",
      "Processed customer data saved to ../data/processed/processed_customer_data.csv\n"
     ]
    },
    {
     "data": {
      "text/html": [
       "<div>\n",
       "<style scoped>\n",
       "    .dataframe tbody tr th:only-of-type {\n",
       "        vertical-align: middle;\n",
       "    }\n",
       "\n",
       "    .dataframe tbody tr th {\n",
       "        vertical-align: top;\n",
       "    }\n",
       "\n",
       "    .dataframe thead th {\n",
       "        text-align: right;\n",
       "    }\n",
       "</style>\n",
       "<table border=\"1\" class=\"dataframe\">\n",
       "  <thead>\n",
       "    <tr style=\"text-align: right;\">\n",
       "      <th></th>\n",
       "      <th>CustomerId</th>\n",
       "      <th>Recency</th>\n",
       "      <th>Frequency</th>\n",
       "      <th>Monetary</th>\n",
       "      <th>Default</th>\n",
       "    </tr>\n",
       "  </thead>\n",
       "  <tbody>\n",
       "    <tr>\n",
       "      <th>0</th>\n",
       "      <td>CustomerId_1</td>\n",
       "      <td>83</td>\n",
       "      <td>1</td>\n",
       "      <td>10000</td>\n",
       "      <td>0</td>\n",
       "    </tr>\n",
       "    <tr>\n",
       "      <th>1</th>\n",
       "      <td>CustomerId_10</td>\n",
       "      <td>83</td>\n",
       "      <td>1</td>\n",
       "      <td>10000</td>\n",
       "      <td>0</td>\n",
       "    </tr>\n",
       "    <tr>\n",
       "      <th>2</th>\n",
       "      <td>CustomerId_1001</td>\n",
       "      <td>89</td>\n",
       "      <td>5</td>\n",
       "      <td>30400</td>\n",
       "      <td>0</td>\n",
       "    </tr>\n",
       "    <tr>\n",
       "      <th>3</th>\n",
       "      <td>CustomerId_1002</td>\n",
       "      <td>25</td>\n",
       "      <td>11</td>\n",
       "      <td>4775</td>\n",
       "      <td>0</td>\n",
       "    </tr>\n",
       "    <tr>\n",
       "      <th>4</th>\n",
       "      <td>CustomerId_1003</td>\n",
       "      <td>11</td>\n",
       "      <td>6</td>\n",
       "      <td>32000</td>\n",
       "      <td>0</td>\n",
       "    </tr>\n",
       "    <tr>\n",
       "      <th>5</th>\n",
       "      <td>CustomerId_1004</td>\n",
       "      <td>52</td>\n",
       "      <td>1</td>\n",
       "      <td>2000</td>\n",
       "      <td>0</td>\n",
       "    </tr>\n",
       "    <tr>\n",
       "      <th>6</th>\n",
       "      <td>CustomerId_1005</td>\n",
       "      <td>46</td>\n",
       "      <td>9</td>\n",
       "      <td>61200</td>\n",
       "      <td>0</td>\n",
       "    </tr>\n",
       "    <tr>\n",
       "      <th>7</th>\n",
       "      <td>CustomerId_1006</td>\n",
       "      <td>64</td>\n",
       "      <td>1</td>\n",
       "      <td>1000</td>\n",
       "      <td>0</td>\n",
       "    </tr>\n",
       "    <tr>\n",
       "      <th>8</th>\n",
       "      <td>CustomerId_1007</td>\n",
       "      <td>81</td>\n",
       "      <td>1</td>\n",
       "      <td>28000</td>\n",
       "      <td>0</td>\n",
       "    </tr>\n",
       "    <tr>\n",
       "      <th>9</th>\n",
       "      <td>CustomerId_1008</td>\n",
       "      <td>65</td>\n",
       "      <td>2</td>\n",
       "      <td>20000</td>\n",
       "      <td>0</td>\n",
       "    </tr>\n",
       "  </tbody>\n",
       "</table>\n",
       "</div>"
      ],
      "text/plain": [
       "        CustomerId  Recency  Frequency  Monetary  Default\n",
       "0     CustomerId_1       83          1     10000        0\n",
       "1    CustomerId_10       83          1     10000        0\n",
       "2  CustomerId_1001       89          5     30400        0\n",
       "3  CustomerId_1002       25         11      4775        0\n",
       "4  CustomerId_1003       11          6     32000        0\n",
       "5  CustomerId_1004       52          1      2000        0\n",
       "6  CustomerId_1005       46          9     61200        0\n",
       "7  CustomerId_1006       64          1      1000        0\n",
       "8  CustomerId_1007       81          1     28000        0\n",
       "9  CustomerId_1008       65          2     20000        0"
      ]
     },
     "metadata": {},
     "output_type": "display_data"
    }
   ],
   "source": [
    "# Initialize and run processing pipeline\n",
    "processor = DataProcessor(raw_data_path)\n",
    "rfm_df = processor.run_pipeline(processed_data_path)\n",
    "\n",
    "# Display the processed RFM data\n",
    "if rfm_df is not None:\n",
    "    display(rfm_df.head(10))"
   ]
  },
  {
   "cell_type": "code",
   "execution_count": 6,
   "metadata": {},
   "outputs": [],
   "source": [
    "# Run EDA on the original dataset (not just RFM)\n",
    "if processor.df is not None:\n",
    "    eda = EDAReportGenerator(processor.df)\n"
   ]
  },
  {
   "cell_type": "code",
   "execution_count": 7,
   "metadata": {},
   "outputs": [
    {
     "name": "stdout",
     "output_type": "stream",
     "text": [
      "### 1. Overview of the Data\n",
      "  - Number of Rows: 95662\n",
      "  - Number of Columns: 17\n",
      "  - Data Types:\n",
      "TransactionId                        object\n",
      "BatchId                              object\n",
      "AccountId                            object\n",
      "SubscriptionId                       object\n",
      "CustomerId                           object\n",
      "CurrencyCode                         object\n",
      "CountryCode                           int64\n",
      "ProviderId                           object\n",
      "ProductId                            object\n",
      "ProductCategory                      object\n",
      "ChannelId                            object\n",
      "Amount                              float64\n",
      "Value                                 int64\n",
      "TransactionStartTime    datetime64[ns, UTC]\n",
      "PricingStrategy                       int64\n",
      "FraudResult                           int64\n",
      "transaction_date                     object\n",
      "\n"
     ]
    }
   ],
   "source": [
    "overview= eda.get_data_overview()\n",
    "print(overview)"
   ]
  },
  {
   "cell_type": "code",
   "execution_count": 8,
   "metadata": {},
   "outputs": [
    {
     "name": "stdout",
     "output_type": "stream",
     "text": [
      "\n",
      "### 2. Summary Statistics (Numerical Features)\n",
      "       CountryCode        Amount         Value  PricingStrategy   FraudResult\n",
      "count      95662.0  9.566200e+04  9.566200e+04     95662.000000  95662.000000\n",
      "mean         256.0  6.717846e+03  9.900584e+03         2.255974      0.002018\n",
      "std            0.0  1.233068e+05  1.231221e+05         0.732924      0.044872\n",
      "min          256.0 -1.000000e+06  2.000000e+00         0.000000      0.000000\n",
      "25%          256.0 -5.000000e+01  2.750000e+02         2.000000      0.000000\n",
      "50%          256.0  1.000000e+03  1.000000e+03         2.000000      0.000000\n",
      "75%          256.0  2.800000e+03  5.000000e+03         2.000000      0.000000\n",
      "max          256.0  9.880000e+06  9.880000e+06         4.000000      1.000000\n",
      "\n"
     ]
    }
   ],
   "source": [
    "summary= eda.get_summary_statistics()\n",
    "print(summary)"
   ]
  },
  {
   "cell_type": "code",
   "execution_count": 9,
   "metadata": {},
   "outputs": [
    {
     "name": "stdout",
     "output_type": "stream",
     "text": [
      "\n",
      "### 3. Distribution of Numerical Features\n",
      "  - **CountryCode**:\n",
      "    - Mean: 256.00\n",
      "    - Median: 256.00\n",
      "    - Skewness: 0.00 (Positive: Right-skewed, Negative: Left-skewed, ~0: Symmetric)\n",
      "    - Std Dev: 0.00\n",
      "  - **Amount**:\n",
      "    - Mean: 6717.85\n",
      "    - Median: 1000.00\n",
      "    - Skewness: 51.10 (Positive: Right-skewed, Negative: Left-skewed, ~0: Symmetric)\n",
      "    - Std Dev: 123306.80\n",
      "    - Range: -1000000.00 to 9880000.00\n",
      "    - Observations: Typically highly skewed with many small transactions and a few very large ones. 'Amount' includes negative values (debits/credits).\n",
      "  - **Value**:\n",
      "    - Mean: 9900.58\n",
      "    - Median: 1000.00\n",
      "    - Skewness: 51.29 (Positive: Right-skewed, Negative: Left-skewed, ~0: Symmetric)\n",
      "    - Std Dev: 123122.09\n",
      "    - Range: 2.00 to 9880000.00\n",
      "    - Observations: Typically highly skewed with many small transactions and a few very large ones. 'Amount' includes negative values (debits/credits).\n",
      "  - **PricingStrategy**:\n",
      "    - Mean: 2.26\n",
      "    - Median: 2.00\n",
      "    - Skewness: 1.66 (Positive: Right-skewed, Negative: Left-skewed, ~0: Symmetric)\n",
      "    - Std Dev: 0.73\n",
      "  - **FraudResult**:\n",
      "    - Mean: 0.00\n",
      "    - Median: 0.00\n",
      "    - Skewness: 22.20 (Positive: Right-skewed, Negative: Left-skewed, ~0: Symmetric)\n",
      "    - Std Dev: 0.04\n",
      "    - Observations: Highly imbalanced (mean 0.0020), indicating rare occurrences of fraud.\n",
      "\n"
     ]
    }
   ],
   "source": [
    "numerical_distribution= eda.analyze_numerical_distribution()\n",
    "print(numerical_distribution)"
   ]
  },
  {
   "cell_type": "code",
   "execution_count": 10,
   "metadata": {},
   "outputs": [
    {
     "name": "stdout",
     "output_type": "stream",
     "text": [
      "\n",
      "### 4. Distribution of Categorical Features\n",
      "  - **TransactionId**: 95662 unique values. Primarily identifiers or datetime strings.\n",
      "  - **BatchId**: 94809 unique values. Primarily identifiers or datetime strings.\n",
      "  - **AccountId**: 3633 unique values. Primarily identifiers or datetime strings.\n",
      "  - **SubscriptionId**: 3627 unique values. Primarily identifiers or datetime strings.\n",
      "  - **CustomerId**: 3742 unique values. Primarily identifiers or datetime strings.\n",
      "  - **CurrencyCode** (Top 5):\n",
      "CurrencyCode\n",
      "UGX    100.0%\n",
      "    - Observations: Highly concentrated, e.g., mostly UGX and Country Code 256.\n",
      "  - **ProviderId** (Top 5):\n",
      "ProviderId\n",
      "ProviderId_4    39.920763\n",
      "ProviderId_6    35.736238\n",
      "ProviderId_5    15.201438\n",
      "ProviderId_1     5.898894\n",
      "ProviderId_3     3.223851%\n",
      "  - **ProductId** (Top 5):\n",
      "ProductId\n",
      "ProductId_6     34.114905\n",
      "ProductId_3     25.447931\n",
      "ProductId_10    16.081621\n",
      "ProductId_15    12.506533\n",
      "ProductId_1      3.015827%\n",
      "  - **ProductCategory** (Top 5):\n",
      "ProductCategory\n",
      "financial_services    47.463988\n",
      "airtime               47.068847\n",
      "utility_bill           2.007067\n",
      "data_bundles           1.686145\n",
      "tv                     1.336999%\n",
      "    - Observations: Dominant categories include 'airtime' and 'financial_services'.\n",
      "  - **ChannelId** (Top 5):\n",
      "ChannelId\n",
      "ChannelId_3    59.516841\n",
      "ChannelId_2    38.825239\n",
      "ChannelId_5     1.095524\n",
      "ChannelId_1     0.562397%\n",
      "    - Observations: 'ChannelId_3' and 'ChannelId_2' are most frequent; 'ChannelId_5' (pay later) is particularly relevant.\n",
      "  - **transaction_date** (Top 5):\n",
      "transaction_date\n",
      "2019-02-01    3.119316\n",
      "2019-01-25    3.043006\n",
      "2019-02-08    3.018963\n",
      "2018-12-04    2.906065\n",
      "2018-12-28    2.845435%\n",
      "\n"
     ]
    }
   ],
   "source": [
    "categorical_distribution= eda.analyze_categorical_distribution()\n",
    "print(categorical_distribution)"
   ]
  },
  {
   "cell_type": "code",
   "execution_count": 11,
   "metadata": {},
   "outputs": [
    {
     "name": "stdout",
     "output_type": "stream",
     "text": [
      "\n",
      "### 5. Correlation Analysis (Numerical Features)\n",
      "  - Correlation Matrix:\n",
      "                 CountryCode    Amount     Value  PricingStrategy  FraudResult\n",
      "CountryCode              NaN       NaN       NaN              NaN          NaN\n",
      "Amount                   NaN  1.000000  0.989692        -0.061931     0.557370\n",
      "Value                    NaN  0.989692  1.000000        -0.017020     0.566739\n",
      "PricingStrategy          NaN -0.061931 -0.017020         1.000000    -0.033821\n",
      "FraudResult              NaN  0.557370  0.566739        -0.033821     1.000000\n",
      "  - Key Observations:\n",
      "    - Strong positive correlation between 'Amount' (absolute magnitude) and 'Value'.\n",
      "    - 'FraudResult' correlations with other numerical features might be weak due to its imbalance, but large magnitudes in 'Amount'/'Value' could be indicative.\n",
      "\n"
     ]
    }
   ],
   "source": [
    "correlation_analysis= eda.perform_correlation_analysis()\n",
    "print(correlation_analysis) "
   ]
  },
  {
   "cell_type": "code",
   "execution_count": 12,
   "metadata": {},
   "outputs": [
    {
     "name": "stdout",
     "output_type": "stream",
     "text": [
      "\n",
      "### 6. Identifying Missing Values\n",
      "  - No missing values found in the dataset.\n",
      "\n"
     ]
    }
   ],
   "source": [
    "missing_values= eda.identify_missing_values()\n",
    "print(missing_values)"
   ]
  },
  {
   "cell_type": "code",
   "execution_count": 13,
   "metadata": {},
   "outputs": [
    {
     "name": "stdout",
     "output_type": "stream",
     "text": [
      "\n",
      "### 7. Outlier Detection (Numerical Features) - Z-Score Method\n",
      "  - **Amount**:\n",
      "    - Mean: 6717.85\n",
      "    - Standard Deviation: 123306.80\n",
      "    - Number of Outliers (|Z-score| > 3): 269\n",
      "    - Percentage of Outliers: 0.28%\n",
      "    - Outlier Range: -1000000.00 to 9880000.00\n",
      "    - Max Z-score: 80.07\n",
      "    - Observations: Z-score method identifies extreme values that deviate significantly from the mean. High Z-scores may indicate potential fraud, data entry errors, or legitimate large transactions.\n",
      "  - **Value**:\n",
      "    - Mean: 9900.58\n",
      "    - Standard Deviation: 123122.09\n",
      "    - Number of Outliers (|Z-score| > 3): 269\n",
      "    - Percentage of Outliers: 0.28%\n",
      "    - Outlier Range: 380000.00 to 9880000.00\n",
      "    - Max Z-score: 80.17\n",
      "    - Observations: Z-score method identifies extreme values that deviate significantly from the mean. High Z-scores may indicate potential fraud, data entry errors, or legitimate large transactions.\n",
      "  - **FraudResult**: As a binary flag, 'FraudResult' doesn't have numerical outliers in the traditional sense, but the rare occurrences of '1' (fraud) represent an outlier class that needs special handling.\n",
      "\n"
     ]
    }
   ],
   "source": [
    "outliers= eda.detect_outliers()\n",
    "print(outliers)"
   ]
  },
  {
   "cell_type": "code",
   "execution_count": 14,
   "metadata": {},
   "outputs": [
    {
     "name": "stdout",
     "output_type": "stream",
     "text": [
      "Removing outliers with Z-score > 3...\n",
      "  - Amount: 269 outliers removed\n",
      "  - Value: 269 outliers removed\n",
      "  - PricingStrategy: 385 outliers removed\n",
      "  - FraudResult: 193 outliers removed\n",
      "Outlier removal completed:\n",
      "  - Initial rows: 95662\n",
      "  - Final rows: 95044\n",
      "  - Rows removed: 618\n",
      "  - Percentage removed: 0.65%\n"
     ]
    },
    {
     "data": {
      "text/plain": [
       "True"
      ]
     },
     "execution_count": 14,
     "metadata": {},
     "output_type": "execute_result"
    }
   ],
   "source": [
    "# Remove outliers from all numerical columns with default threshold\n",
    "processor.remove_outliers_zscore()"
   ]
  },
  {
   "cell_type": "code",
   "execution_count": 15,
   "metadata": {},
   "outputs": [
    {
     "name": "stdout",
     "output_type": "stream",
     "text": [
      "=== Data Cleaning and Saving Pipeline ===\n",
      "\n",
      "1. Removing outliers (Z-score > 3)...\n",
      "Removing outliers with Z-score > 3...\n",
      "  - Amount: 1571 outliers removed\n",
      "  - Value: 1109 outliers removed\n",
      "Outlier removal completed:\n",
      "  - Initial rows: 95044\n",
      "  - Final rows: 93469\n",
      "  - Rows removed: 1575\n",
      "  - Percentage removed: 1.66%\n",
      "\n",
      "2. Saving cleaned data to e:\\AI\\Week-5\\Week 5 Project\\credit-risk-model\\data\\processed\\cleaned-data.csv...\n",
      "✅ Successfully saved cleaned data!\n",
      "📊 Final dataset shape: (93469, 17)\n",
      "💾 File saved at: e:\\AI\\Week-5\\Week 5 Project\\credit-risk-model\\data\\processed\\cleaned-data.csv\n",
      "\n",
      "📈 Dataset Summary:\n",
      "   - Total rows: 93469\n",
      "   - Total columns: 17\n",
      "   - Fraud cases: 0 (0.0000)\n"
     ]
    },
    {
     "data": {
      "text/plain": [
       "True"
      ]
     },
     "execution_count": 15,
     "metadata": {},
     "output_type": "execute_result"
    }
   ],
   "source": [
    "# Clean data (remove outliers with Z-score > 3) and save to CSV\n",
    "processor.clean_and_save_data(\"cleaned-data.csv\")"
   ]
  }
 ],
 "metadata": {
  "kernelspec": {
   "display_name": "Python 3",
   "language": "python",
   "name": "python3"
  },
  "language_info": {
   "codemirror_mode": {
    "name": "ipython",
    "version": 3
   },
   "file_extension": ".py",
   "mimetype": "text/x-python",
   "name": "python",
   "nbconvert_exporter": "python",
   "pygments_lexer": "ipython3",
   "version": "3.13.3"
  }
 },
 "nbformat": 4,
 "nbformat_minor": 2
}
